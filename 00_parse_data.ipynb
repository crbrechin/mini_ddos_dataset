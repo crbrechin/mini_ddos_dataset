{
 "cells": [
  {
   "cell_type": "markdown",
   "metadata": {},
   "source": [
    "# 🫘 Splitting the Data for Preview"
   ]
  },
  {
   "cell_type": "code",
   "execution_count": 5,
   "metadata": {},
   "outputs": [],
   "source": [
    "# Required libraries\n",
    "import pandas as pd\n",
    "import matplotlib.pyplot as plt\n",
    "import numpy as np\n",
    "import seaborn as sns\n",
    "from sklearn.feature_selection import VarianceThreshold\n",
    "\n",
    "import random"
   ]
  },
  {
   "cell_type": "markdown",
   "metadata": {},
   "source": [
    "## ✨ Parse Data into Chunks"
   ]
  },
  {
   "cell_type": "code",
   "execution_count": 3,
   "metadata": {},
   "outputs": [],
   "source": [
    "import pandas as pd\n",
    "\n",
    "# chunk_size = 5000  # rows per file\n",
    "# for i, chunk in enumerate(pd.read_csv(\"./data/full_ddos_dataset.csv\", chunksize=chunk_size)):\n",
    "#     chunk.to_csv(f\"./data/ddos_chunk_{i}.csv\", index=False)"
   ]
  },
  {
   "cell_type": "markdown",
   "metadata": {},
   "source": [
    "### 💥 Make the Final Testing Data\n",
    "\n",
    "I have gone all the way through this and I have to double-back because my computer is underpowered."
   ]
  },
  {
   "cell_type": "code",
   "execution_count": 6,
   "metadata": {},
   "outputs": [
    {
     "name": "stderr",
     "output_type": "stream",
     "text": [
      "C:\\Users\\carna\\Anaconda3\\lib\\site-packages\\IPython\\core\\interactiveshell.py:3058: DtypeWarning: Columns (21,22) have mixed types. Specify dtype option on import or set low_memory=False.\n",
      "  interactivity=interactivity, compiler=compiler, result=result)\n"
     ]
    }
   ],
   "source": [
    "# # Count total rows, excluding the header\n",
    "# with open('./data/full_ddos_dataset.csv') as f:\n",
    "#     total_rows = sum(1 for line in f) - 1  # subtract 1 for header\n",
    "\n",
    "# # Choose which rows to skip (excluding the header row)\n",
    "# n = 70000\n",
    "# skip = sorted(random.sample(range(1, total_rows + 1), total_rows - n))\n",
    "\n",
    "# # Turn the desired sample into a `.csv`\n",
    "# test_data = pd.read_csv('./data/full_ddos_dataset.csv', skiprows=skip)\n",
    "\n",
    "# # Write to a file\n",
    "# test_data.to_csv('./data/ddos_test_sample.csv', index=False)"
   ]
  }
 ],
 "metadata": {
  "kernelspec": {
   "display_name": "Python 3 (ipykernel)",
   "language": "python",
   "name": "python3"
  },
  "language_info": {
   "codemirror_mode": {
    "name": "ipython",
    "version": 3
   },
   "file_extension": ".py",
   "mimetype": "text/x-python",
   "name": "python",
   "nbconvert_exporter": "python",
   "pygments_lexer": "ipython3",
   "version": "3.12.4"
  }
 },
 "nbformat": 4,
 "nbformat_minor": 4
}
