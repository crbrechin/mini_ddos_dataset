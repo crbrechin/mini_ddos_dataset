{
 "cells": [
  {
   "cell_type": "markdown",
   "metadata": {},
   "source": [
    "# 🔗 Linear Regression Model"
   ]
  },
  {
   "cell_type": "markdown",
   "metadata": {},
   "source": [
    "## 👽 Load and Summarize"
   ]
  },
  {
   "cell_type": "code",
   "execution_count": 9,
   "metadata": {},
   "outputs": [],
   "source": [
    "# Required libraries\n",
    "# import pandas as pd\n",
    "import matplotlib.pyplot as plt\n",
    "import numpy as np\n",
    "# !pip install --upgrade pandas\n",
    "import pandas as pd\n",
    "# print(pd.__version__) # I am having trouble with pandas and dataframes...\n",
    "import seaborn as sns\n",
    "# print(sns.__version__)  # Should be 0.11.0 or higher so that `histplot() works\n",
    "# !pip install --upgrade seaborn\n",
    "from sklearn.feature_selection import VarianceThreshold\n",
    "\n",
    "# Load the data\n",
    "data = pd.read_csv('./data/train_data.csv')\n",
    "\n",
    "# print(data.shape)\n",
    "# data.describe()"
   ]
  },
  {
   "cell_type": "markdown",
   "metadata": {},
   "source": [
    "## 🧯 Suppress the `FutureWarning`"
   ]
  },
  {
   "cell_type": "code",
   "execution_count": 8,
   "metadata": {},
   "outputs": [],
   "source": [
    "# import warnings\n",
    "# warnings.simplefilter(\"ignore\", category=FutureWarning)"
   ]
  },
  {
   "cell_type": "markdown",
   "metadata": {},
   "source": [
    "## 🧼 Clean the Dataset"
   ]
  },
  {
   "cell_type": "code",
   "execution_count": 10,
   "metadata": {},
   "outputs": [],
   "source": [
    "# # Convert all object columns to strings\n",
    "cols = ['protocol_type', 'service', 'flag', 'class']\n",
    "\n",
    "data[cols] = data[cols].astype(str)\n",
    "\n",
    "data = data.dropna()\n",
    "\n",
    "# print((data['is_host_login'] == 1).count()) # 25192 empty, so I will drop\n",
    "# Drop `is_host_login`\n",
    "\n",
    "# Search for bad columns\n",
    "constant_cols = [col for col in data.columns if data[col].nunique(dropna=False) == 1]\n",
    "# print(\"Useless columns:\", constant_cols)  Useless columns: ['num_outbound_cmds', 'is_host_login']\n",
    "# \"Let it all drop\" - Modest Mouse\n",
    "data = data.drop(columns=constant_cols)\n",
    "\n",
    "# print(data.dtypes)\n",
    "\n",
    "# Convert the label column\n",
    "data['class'] = data['class'].map({'normal': 0, 'anomaly': 1})\n",
    "\n",
    "\n",
    "# Get the binary columns for logistic regression\n",
    "binary_cols = []\n",
    "\n",
    "# Get the numeric clumns\n",
    "numeric_cols = data.select_dtypes(include='number').columns\n",
    "\n",
    "for col in data.select_dtypes(include='number').columns:\n",
    "    unique_vals = sorted(data[col].dropna().unique())\n",
    "    if unique_vals == [0, 1]:\n",
    "        binary_cols.append(col)\n",
    "\n",
    "# print(\"Binary columns:\", binary_cols)\n",
    "binary_cols.remove('num_shells')\n",
    "# print(binary_cols)\n",
    "# Separate the numeric and binary columns\n",
    "\n",
    "numeric_cols = [col for col in numeric_cols if col not in binary_cols]"
   ]
  },
  {
   "cell_type": "markdown",
   "metadata": {},
   "source": [
    "## 🐫 Removing Low Variance Cells"
   ]
  },
  {
   "cell_type": "code",
   "execution_count": 11,
   "metadata": {
    "scrolled": true
   },
   "outputs": [
    {
     "name": "stdout",
     "output_type": "stream",
     "text": [
      "Low-variance features:\n",
      "----------------------------------------------------------------------------------------------------\n",
      "[]\n",
      "No low-variance features found.\n"
     ]
    }
   ],
   "source": [
    "# Fit the selector\n",
    "selector = VarianceThreshold(threshold=0.001)\n",
    "selector.fit(data[numeric_cols])  # call .fit() before accessing .variances_\n",
    "\n",
    "# Now safe to access .variances_\n",
    "low_variance = [col for col, var in zip(numeric_cols, selector.variances_) if var < 0.00001]\n",
    "\n",
    "print(\"Low-variance features:\\n\" + \"-\" * 100)\n",
    "print(low_variance)\n",
    "\n",
    "if low_variance:\n",
    "    print(\"-\" * 100)\n",
    "    print(data[low_variance].describe())\n",
    "    print(\"-\" * 100)\n",
    "    print(data.groupby('class')[low_variance].mean())\n",
    "else:\n",
    "    print(\"No low-variance features found.\")"
   ]
  },
  {
   "cell_type": "code",
   "execution_count": 5,
   "metadata": {},
   "outputs": [],
   "source": [
    "# Drop these rows because they don't help\n",
    "# data = data.drop(columns=low_variance) # I am going to keep them for the moment"
   ]
  },
  {
   "cell_type": "markdown",
   "metadata": {},
   "source": [
    "## 🍧 Build the Linear Model"
   ]
  },
  {
   "cell_type": "code",
   "execution_count": 29,
   "metadata": {},
   "outputs": [
    {
     "name": "stdout",
     "output_type": "stream",
     "text": [
      "       duration  src_bytes  dst_bytes  wrong_fragment  hot  num_failed_logins  \\\n",
      "0             0        491          0               0    0                  0   \n",
      "1             0        146          0               0    0                  0   \n",
      "2             0          0          0               0    0                  0   \n",
      "3             0        232       8153               0    0                  0   \n",
      "4             0        199        420               0    0                  0   \n",
      "...         ...        ...        ...             ...  ...                ...   \n",
      "25187         0          0          0               0    0                  0   \n",
      "25188         0        334          0               0    0                  0   \n",
      "25189         0          0          0               0    0                  0   \n",
      "25190         0          0          0               0    0                  0   \n",
      "25191         0          0          0               0    0                  0   \n",
      "\n",
      "       num_compromised  su_attempted  num_root  num_file_creations  ...  \\\n",
      "0                    0             0         0                   0  ...   \n",
      "1                    0             0         0                   0  ...   \n",
      "2                    0             0         0                   0  ...   \n",
      "3                    0             0         0                   0  ...   \n",
      "4                    0             0         0                   0  ...   \n",
      "...                ...           ...       ...                 ...  ...   \n",
      "25187                0             0         0                   0  ...   \n",
      "25188                0             0         0                   0  ...   \n",
      "25189                0             0         0                   0  ...   \n",
      "25190                0             0         0                   0  ...   \n",
      "25191                0             0         0                   0  ...   \n",
      "\n",
      "       dst_host_count  dst_host_srv_count  dst_host_same_srv_rate  \\\n",
      "0                 150                  25                    0.17   \n",
      "1                 255                   1                    0.00   \n",
      "2                 255                  26                    0.10   \n",
      "3                  30                 255                    1.00   \n",
      "4                 255                 255                    1.00   \n",
      "...               ...                 ...                     ...   \n",
      "25187             255                   7                    0.03   \n",
      "25188               1                  39                    1.00   \n",
      "25189             255                  13                    0.05   \n",
      "25190             255                  20                    0.08   \n",
      "25191             255                  49                    0.19   \n",
      "\n",
      "       dst_host_diff_srv_rate  dst_host_same_src_port_rate  \\\n",
      "0                        0.03                         0.17   \n",
      "1                        0.60                         0.88   \n",
      "2                        0.05                         0.00   \n",
      "3                        0.00                         0.03   \n",
      "4                        0.00                         0.00   \n",
      "...                       ...                          ...   \n",
      "25187                    0.06                         0.00   \n",
      "25188                    0.00                         1.00   \n",
      "25189                    0.07                         0.00   \n",
      "25190                    0.06                         0.00   \n",
      "25191                    0.03                         0.01   \n",
      "\n",
      "       dst_host_srv_diff_host_rate  dst_host_serror_rate  \\\n",
      "0                             0.00                  0.00   \n",
      "1                             0.00                  0.00   \n",
      "2                             0.00                  1.00   \n",
      "3                             0.04                  0.03   \n",
      "4                             0.00                  0.00   \n",
      "...                            ...                   ...   \n",
      "25187                         0.00                  0.00   \n",
      "25188                         0.18                  0.00   \n",
      "25189                         0.00                  0.00   \n",
      "25190                         0.00                  1.00   \n",
      "25191                         0.00                  1.00   \n",
      "\n",
      "       dst_host_srv_serror_rate  dst_host_rerror_rate  \\\n",
      "0                          0.00                  0.05   \n",
      "1                          0.00                  0.00   \n",
      "2                          1.00                  0.00   \n",
      "3                          0.01                  0.00   \n",
      "4                          0.00                  0.00   \n",
      "...                         ...                   ...   \n",
      "25187                      0.00                  1.00   \n",
      "25188                      0.00                  0.00   \n",
      "25189                      0.00                  1.00   \n",
      "25190                      1.00                  0.00   \n",
      "25191                      1.00                  0.00   \n",
      "\n",
      "       dst_host_srv_rerror_rate  \n",
      "0                          0.00  \n",
      "1                          0.00  \n",
      "2                          0.00  \n",
      "3                          0.01  \n",
      "4                          0.00  \n",
      "...                         ...  \n",
      "25187                      1.00  \n",
      "25188                      0.00  \n",
      "25189                      1.00  \n",
      "25190                      0.00  \n",
      "25191                      0.00  \n",
      "\n",
      "[25192 rows x 31 columns]\n"
     ]
    }
   ],
   "source": [
    "from sklearn.linear_model import LinearRegression\n",
    "from sklearn.model_selection import train_test_split\n",
    "\n",
    "# Define X (features) and y (target)\n",
    "X = data[numeric_cols]\n",
    "y = data['class']  # Tell me y, ain't nothin' but a heartbreak\n",
    "\n",
    "# Train-test split\n",
    "X_train, X_test, y_train, y_test = train_test_split(X, y, test_size=0.2, random_state=42069) # Nice\n",
    "\n",
    "print(X)"
   ]
  },
  {
   "cell_type": "markdown",
   "metadata": {},
   "source": [
    "### 🚂 Train the Model"
   ]
  },
  {
   "cell_type": "code",
   "execution_count": 23,
   "metadata": {},
   "outputs": [
    {
     "data": {
      "text/plain": [
       "LinearRegression()"
      ]
     },
     "execution_count": 23,
     "metadata": {},
     "output_type": "execute_result"
    }
   ],
   "source": [
    "model = LinearRegression()\n",
    "model.fit(X_train, y_train)"
   ]
  },
  {
   "cell_type": "markdown",
   "metadata": {},
   "source": [
    "### 🐊 Evaluate the Model"
   ]
  },
  {
   "cell_type": "code",
   "execution_count": 35,
   "metadata": {},
   "outputs": [
    {
     "name": "stdout",
     "output_type": "stream",
     "text": [
      "Train R²: 0.7853787202690982\n",
      "Test R²: 0.7690146303959049\n",
      "Train RMSE: 0.2310661260489181\n",
      "Test RMSE: 0.23989810630559325\n",
      "----------------------------------------------------------------------------------------------------\n",
      "Train classification report:\n",
      "              precision    recall  f1-score   support\n",
      "\n",
      "           0       0.95      0.96      0.95     10783\n",
      "           1       0.95      0.94      0.94      9370\n",
      "\n",
      "    accuracy                           0.95     20153\n",
      "   macro avg       0.95      0.95      0.95     20153\n",
      "weighted avg       0.95      0.95      0.95     20153\n",
      "\n",
      "----------------------------------------------------------------------------------------------------\n",
      "Test classification report:\n",
      "              precision    recall  f1-score   support\n",
      "\n",
      "           0       0.94      0.96      0.95      2666\n",
      "           1       0.95      0.93      0.94      2373\n",
      "\n",
      "    accuracy                           0.94      5039\n",
      "   macro avg       0.94      0.94      0.94      5039\n",
      "weighted avg       0.94      0.94      0.94      5039\n",
      "\n"
     ]
    }
   ],
   "source": [
    "from sklearn.metrics import classification_report\n",
    "from sklearn.metrics import mean_squared_error, r2_score\n",
    "\n",
    "# Predictions\n",
    "y_pred_train = (model.predict(X_train) > 0.5).astype(int) # Because we're linear on a classification problem\n",
    "y_pred_test = (model.predict(X_test) > 0.5).astype(int) # Because we're linear on a classification problem\n",
    "# Look, it's not perfect, but I am trying to set a baseline...\n",
    "\n",
    "\n",
    "# Evaluation\n",
    "print(\"Train R²:\", r2_score(y_train, y_pred_train))\n",
    "print(\"Test R²:\", r2_score(y_test, y_pred_test))\n",
    "print(\"Train RMSE:\", mean_squared_error(y_train, y_pred_train, squared=False))\n",
    "print(\"Test RMSE:\", mean_squared_error(y_test, y_pred_test, squared=False))\n",
    "print(\"-\" * 100)\n",
    "# For training data\n",
    "print(\"Train classification report:\")\n",
    "print(classification_report(y_train, y_pred_train.round()))\n",
    "print(\"-\" * 100)\n",
    "# For test data\n",
    "print(\"Test classification report:\")\n",
    "print(classification_report(y_test, y_pred_test.round()))"
   ]
  },
  {
   "cell_type": "markdown",
   "metadata": {},
   "source": [
    "### 🦖 Confusion Matrix"
   ]
  },
  {
   "cell_type": "code",
   "execution_count": 37,
   "metadata": {},
   "outputs": [
    {
     "data": {
      "text/plain": [
       "<sklearn.metrics._plot.confusion_matrix.ConfusionMatrixDisplay at 0x2ddb223a148>"
      ]
     },
     "execution_count": 37,
     "metadata": {},
     "output_type": "execute_result"
    },
    {
     "data": {
      "image/png": "[encoded data removed]",
      "text/plain": [
       "<Figure size 432x288 with 2 Axes>"
      ]
     },
     "metadata": {
      "needs_background": "light"
     },
     "output_type": "display_data"
    }
   ],
   "source": [
    "from sklearn.metrics import confusion_matrix, ConfusionMatrixDisplay\n",
    "\n",
    "# Generate confusion matrix\n",
    "cm = confusion_matrix(y_test, y_pred_test)\n",
    "disp = ConfusionMatrixDisplay(\n",
    "    confusion_matrix=cm,\n",
    "    display_labels=['Normal', 'Anomaly']\n",
    ")\n",
    "\n",
    "# Plot it\n",
    "disp.plot(cmap='Oranges')"
   ]
  }
 ],
 "metadata": {
  "kernelspec": {
   "display_name": "Python 3",
   "language": "python",
   "name": "python3"
  },
  "language_info": {
   "codemirror_mode": {
    "name": "ipython",
    "version": 3
   },
   "file_extension": ".py",
   "mimetype": "text/x-python",
   "name": "python",
   "nbconvert_exporter": "python",
   "pygments_lexer": "ipython3",
   "version": "3.7.4"
  }
 },
 "nbformat": 4,
 "nbformat_minor": 2
}
