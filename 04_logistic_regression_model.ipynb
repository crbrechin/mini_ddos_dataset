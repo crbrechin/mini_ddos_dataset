{
 "cells": [
  {
   "cell_type": "markdown",
   "metadata": {},
   "source": [
    "# 🔗 Linear Regression Model"
   ]
  },
  {
   "cell_type": "markdown",
   "metadata": {},
   "source": [
    "## 👽 Load and Summarize"
   ]
  },
  {
   "cell_type": "code",
   "execution_count": 38,
   "metadata": {},
   "outputs": [],
   "source": [
    "# Required libraries\n",
    "# import pandas as pd\n",
    "import matplotlib.pyplot as plt\n",
    "import numpy as np\n",
    "# !pip install --upgrade pandas\n",
    "import pandas as pd\n",
    "# print(pd.__version__) # I am having trouble with pandas and dataframes...\n",
    "import seaborn as sns\n",
    "# print(sns.__version__)  # Should be 0.11.0 or higher so that `histplot() works\n",
    "# !pip install --upgrade seaborn\n",
    "from sklearn.feature_selection import VarianceThreshold\n",
    "\n",
    "# Load the data\n",
    "data = pd.read_csv('./data/train_data.csv')\n",
    "\n",
    "# print(data.shape)\n",
    "# data.describe()"
   ]
  },
  {
   "cell_type": "markdown",
   "metadata": {},
   "source": [
    "## 🧯 Suppress the `FutureWarning`"
   ]
  },
  {
   "cell_type": "code",
   "execution_count": 39,
   "metadata": {},
   "outputs": [],
   "source": [
    "# import warnings\n",
    "# warnings.simplefilter(\"ignore\", category=FutureWarning)"
   ]
  },
  {
   "cell_type": "markdown",
   "metadata": {},
   "source": [
    "## 🧼 Clean the Dataset"
   ]
  },
  {
   "cell_type": "code",
   "execution_count": 40,
   "metadata": {},
   "outputs": [],
   "source": [
    "# # Convert all object columns to strings\n",
    "cols = ['protocol_type', 'service', 'flag', 'class']\n",
    "\n",
    "data[cols] = data[cols].astype(str)\n",
    "\n",
    "data = data.dropna()\n",
    "\n",
    "# print((data['is_host_login'] == 1).count()) # 25192 empty, so I will drop\n",
    "# Drop `is_host_login`\n",
    "\n",
    "# Search for bad columns\n",
    "constant_cols = [col for col in data.columns if data[col].nunique(dropna=False) == 1]\n",
    "# print(\"Useless columns:\", constant_cols)  Useless columns: ['num_outbound_cmds', 'is_host_login']\n",
    "# \"Let it all drop\" - Modest Mouse\n",
    "data = data.drop(columns=constant_cols)\n",
    "\n",
    "# print(data.dtypes)\n",
    "\n",
    "# Convert the label column\n",
    "data['class'] = data['class'].map({'normal': 0, 'anomaly': 1})\n",
    "\n",
    "\n",
    "# Get the binary columns for logistic regression\n",
    "binary_cols = []\n",
    "\n",
    "# Get the numeric clumns\n",
    "numeric_cols = data.select_dtypes(include='number').columns\n",
    "\n",
    "for col in data.select_dtypes(include='number').columns:\n",
    "    unique_vals = sorted(data[col].dropna().unique())\n",
    "    if unique_vals == [0, 1]:\n",
    "        binary_cols.append(col)\n",
    "\n",
    "# print(\"Binary columns:\", binary_cols)\n",
    "binary_cols.remove('num_shells')\n",
    "# print(binary_cols)\n",
    "# Separate the numeric and binary columns\n",
    "\n",
    "numeric_cols = [col for col in numeric_cols if col not in binary_cols]"
   ]
  },
  {
   "cell_type": "markdown",
   "metadata": {},
   "source": [
    "## 🐫 Removing Low Variance Cells"
   ]
  },
  {
   "cell_type": "code",
   "execution_count": 41,
   "metadata": {
    "scrolled": true
   },
   "outputs": [
    {
     "name": "stdout",
     "output_type": "stream",
     "text": [
      "Low-variance features:\n",
      "----------------------------------------------------------------------------------------------------\n",
      "[]\n",
      "No low-variance features found.\n"
     ]
    }
   ],
   "source": [
    "# Fit the selector\n",
    "selector = VarianceThreshold(threshold=0.001)\n",
    "selector.fit(data[numeric_cols])  # call .fit() before accessing .variances_\n",
    "\n",
    "# Now safe to access .variances_\n",
    "low_variance = [col for col, var in zip(numeric_cols, selector.variances_) if var < 0.00001]\n",
    "\n",
    "print(\"Low-variance features:\\n\" + \"-\" * 100)\n",
    "print(low_variance)\n",
    "\n",
    "if low_variance:\n",
    "    print(\"-\" * 100)\n",
    "    print(data[low_variance].describe())\n",
    "    print(\"-\" * 100)\n",
    "    print(data.groupby('class')[low_variance].mean())\n",
    "else:\n",
    "    print(\"No low-variance features found.\")"
   ]
  },
  {
   "cell_type": "code",
   "execution_count": 5,
   "metadata": {},
   "outputs": [],
   "source": [
    "# Drop these rows because they don't help\n",
    "# data = data.drop(columns=low_variance) # I am going to keep them for the moment"
   ]
  },
  {
   "cell_type": "markdown",
   "metadata": {},
   "source": [
    "## 🪓 Build the Logistic Regression Model"
   ]
  },
  {
   "cell_type": "code",
   "execution_count": 57,
   "metadata": {},
   "outputs": [
    {
     "name": "stdout",
     "output_type": "stream",
     "text": [
      "       land  urgent  logged_in  root_shell  is_guest_login\n",
      "0         0       0          0           0               0\n",
      "1         0       0          0           0               0\n",
      "2         0       0          0           0               0\n",
      "3         0       0          1           0               0\n",
      "4         0       0          1           0               0\n",
      "...     ...     ...        ...         ...             ...\n",
      "25187     0       0          0           0               0\n",
      "25188     0       0          1           0               0\n",
      "25189     0       0          0           0               0\n",
      "25190     0       0          0           0               0\n",
      "25191     0       0          0           0               0\n",
      "\n",
      "[25192 rows x 5 columns]\n"
     ]
    }
   ],
   "source": [
    "from sklearn.linear_model import LogisticRegression\n",
    "from sklearn.model_selection import train_test_split\n",
    "\n",
    "# Define X (features) and y (target)\n",
    "X = data[binary_cols].drop(columns = 'class') # Get out of here 'class'\n",
    "y = data['class']  # Tell me y, ain't nothin' but a heartbreak\n",
    "\n",
    "# Train-test split\n",
    "X_train, X_test, y_train, y_test = train_test_split(X, y, test_size=0.2, random_state=42069) # Nice\n",
    "\n",
    "print(X)"
   ]
  },
  {
   "cell_type": "markdown",
   "metadata": {},
   "source": [
    "### 🚂 Train the Model"
   ]
  },
  {
   "cell_type": "code",
   "execution_count": 61,
   "metadata": {},
   "outputs": [
    {
     "data": {
      "text/plain": [
       "LogisticRegression(class_weight='balanced')"
      ]
     },
     "execution_count": 61,
     "metadata": {},
     "output_type": "execute_result"
    }
   ],
   "source": [
    "model = LogisticRegression(class_weight='balanced') # Because my `rofp` is not great right now\n",
    "model.fit(X_train, y_train)"
   ]
  },
  {
   "cell_type": "markdown",
   "metadata": {},
   "source": [
    "### 🐊 Evaluate the Model"
   ]
  },
  {
   "cell_type": "code",
   "execution_count": 85,
   "metadata": {},
   "outputs": [
    {
     "name": "stdout",
     "output_type": "stream",
     "text": [
      "ROC AUC (Test): 0.8344865925710252\n",
      "----------------------------------------------------------------------------------------------------\n",
      "Train classification report:\n",
      "              precision    recall  f1-score   support\n",
      "\n",
      "           0       0.96      0.71      0.82     10783\n",
      "           1       0.74      0.97      0.84      9370\n",
      "\n",
      "    accuracy                           0.83     20153\n",
      "   macro avg       0.85      0.84      0.83     20153\n",
      "weighted avg       0.86      0.83      0.83     20153\n",
      "\n",
      "----------------------------------------------------------------------------------------------------\n",
      "Test classification report:\n",
      "              precision    recall  f1-score   support\n",
      "\n",
      "           0       0.95      0.70      0.81      2666\n",
      "           1       0.74      0.96      0.84      2373\n",
      "\n",
      "    accuracy                           0.82      5039\n",
      "   macro avg       0.85      0.83      0.82      5039\n",
      "weighted avg       0.85      0.82      0.82      5039\n",
      "\n"
     ]
    }
   ],
   "source": [
    "from sklearn.metrics import classification_report\n",
    "from sklearn.metrics import roc_auc_score, r2_score\n",
    "\n",
    "# Predictions\n",
    "y_pred_train = model.predict(X_train)\n",
    "y_pred_test = model.predict(X_test)\n",
    "\n",
    "# Evaluation\n",
    "print(\"ROC AUC (Test):\", roc_auc_score(y_test, model.predict_proba(X_test)[:, 1]))\n",
    "\n",
    "print(\"-\" * 100)\n",
    "print(\"Train classification report:\")\n",
    "print(classification_report(y_train, y_pred_train))\n",
    "\n",
    "print(\"-\" * 100)\n",
    "print(\"Test classification report:\")\n",
    "print(classification_report(y_test, y_pred_test))\n"
   ]
  },
  {
   "cell_type": "markdown",
   "metadata": {},
   "source": [
    "### 🦖 Confusion Matrix"
   ]
  },
  {
   "cell_type": "code",
   "execution_count": 86,
   "metadata": {},
   "outputs": [
    {
     "data": {
      "text/plain": [
       "<sklearn.metrics._plot.confusion_matrix.ConfusionMatrixDisplay at 0x2ddb1ce5408>"
      ]
     },
     "execution_count": 86,
     "metadata": {},
     "output_type": "execute_result"
    },
    {
     "data": {
      "image/png": "[encoded data removed]",
      "text/plain": [
       "<Figure size 432x288 with 2 Axes>"
      ]
     },
     "metadata": {
      "needs_background": "light"
     },
     "output_type": "display_data"
    }
   ],
   "source": [
    "from sklearn.metrics import confusion_matrix, ConfusionMatrixDisplay\n",
    "\n",
    "# Generate confusion matrix\n",
    "cm = confusion_matrix(y_test, y_pred_test)\n",
    "disp = ConfusionMatrixDisplay(\n",
    "    confusion_matrix=cm,\n",
    "    display_labels=['Normal', 'Anomaly']\n",
    ")\n",
    "\n",
    "# Plot it\n",
    "disp.plot(cmap='Blues')"
   ]
  },
  {
   "cell_type": "markdown",
   "metadata": {},
   "source": [
    "### 🔌 Adjust Decision Threshold"
   ]
  },
  {
   "cell_type": "code",
   "execution_count": 87,
   "metadata": {},
   "outputs": [
    {
     "data": {
      "text/plain": [
       "Text(0.5, 1.0, 'Precision vs. Recall')"
      ]
     },
     "execution_count": 87,
     "metadata": {},
     "output_type": "execute_result"
    },
    {
     "data": {
      "image/png": "[encoded data removed]",
      "text/plain": [
       "<Figure size 432x288 with 1 Axes>"
      ]
     },
     "metadata": {
      "needs_background": "light"
     },
     "output_type": "display_data"
    }
   ],
   "source": [
    "from sklearn.metrics import precision_recall_curve\n",
    "import matplotlib.pyplot as plt\n",
    "\n",
    "probs = model.predict_proba(X_test)[:, 1]  # Probabilities for class 1\n",
    "threshold = 0.6  # Start tuning this up from 0.5\n",
    "y_pred_adjusted = (probs >= threshold).astype(int)\n",
    "\n",
    "precision, recall, thresholds = precision_recall_curve(y_test, probs)\n",
    "plt.plot(thresholds, precision[:-1], label='Precision')\n",
    "plt.plot(thresholds, recall[:-1], label='Recall')\n",
    "plt.xlabel(\"Threshold\"); plt.legend(); plt.title(\"Precision vs. Recall\")"
   ]
  },
  {
   "cell_type": "markdown",
   "metadata": {},
   "source": [
    "### 🍳 Compute F-Score per Threshold"
   ]
  },
  {
   "cell_type": "code",
   "execution_count": 88,
   "metadata": {},
   "outputs": [
    {
     "data": {
      "image/png": "[encoded data removed]",
      "text/plain": [
       "<Figure size 432x288 with 1 Axes>"
      ]
     },
     "metadata": {
      "needs_background": "light"
     },
     "output_type": "display_data"
    }
   ],
   "source": [
    "from sklearn.metrics import f1_score\n",
    "\n",
    "f1_scores = [f1_score(y_test, (probs >= t).astype(int)) for t in thresholds]\n",
    "\n",
    "plt.plot(thresholds, f1_scores, label='F1 Score')\n",
    "plt.xlabel(\"Threshold\")\n",
    "plt.ylabel(\"F1 Score\")\n",
    "plt.title(\"F1 Score vs Threshold\")\n",
    "plt.legend()\n",
    "plt.grid(True)\n",
    "plt.show()"
   ]
  },
  {
   "cell_type": "markdown",
   "metadata": {},
   "source": [
    "### 🦉 Adjust the Threshold Accordingly"
   ]
  },
  {
   "cell_type": "code",
   "execution_count": 89,
   "metadata": {},
   "outputs": [
    {
     "name": "stdout",
     "output_type": "stream",
     "text": [
      "Best Threshold: 0.769\n",
      "Best F1 Score: 0.837\n"
     ]
    }
   ],
   "source": [
    "import numpy as np\n",
    "\n",
    "best_idx = np.argmax(f1_scores)\n",
    "best_threshold = thresholds[best_idx]\n",
    "best_f1 = f1_scores[best_idx]\n",
    "\n",
    "print(f\"Best Threshold: {best_threshold:.3f}\")\n",
    "print(f\"Best F1 Score: {best_f1:.3f}\")"
   ]
  },
  {
   "cell_type": "code",
   "execution_count": 90,
   "metadata": {},
   "outputs": [],
   "source": [
    "y_pred_test_2 = (probs >= best_threshold).astype(int)"
   ]
  },
  {
   "cell_type": "markdown",
   "metadata": {},
   "source": [
    "### 🐊 Re-Evaluate the Model"
   ]
  },
  {
   "cell_type": "code",
   "execution_count": 96,
   "metadata": {},
   "outputs": [
    {
     "name": "stdout",
     "output_type": "stream",
     "text": [
      "Classification report (optimal threshold):\n",
      "              precision    recall  f1-score   support\n",
      "\n",
      "           0       0.95      0.70      0.81      2666\n",
      "           1       0.74      0.96      0.84      2373\n",
      "\n",
      "    accuracy                           0.82      5039\n",
      "   macro avg       0.85      0.83      0.82      5039\n",
      "weighted avg       0.85      0.82      0.82      5039\n",
      "\n"
     ]
    }
   ],
   "source": [
    "print(\"Classification report (optimal threshold):\")\n",
    "print(classification_report(y_test, y_pred_test_2))"
   ]
  },
  {
   "cell_type": "code",
   "execution_count": 97,
   "metadata": {},
   "outputs": [
    {
     "data": {
      "text/plain": [
       "<sklearn.metrics._plot.confusion_matrix.ConfusionMatrixDisplay at 0x2ddb2b2d408>"
      ]
     },
     "execution_count": 97,
     "metadata": {},
     "output_type": "execute_result"
    },
    {
     "data": {
      "image/png": "[encoded data removed]",
      "text/plain": [
       "<Figure size 432x288 with 2 Axes>"
      ]
     },
     "metadata": {
      "needs_background": "light"
     },
     "output_type": "display_data"
    }
   ],
   "source": [
    "# Generate confusion matrix\n",
    "cm = confusion_matrix(y_test, y_pred_test_2)\n",
    "disp = ConfusionMatrixDisplay(\n",
    "    confusion_matrix=cm,\n",
    "    display_labels=['Normal', 'Anomaly']\n",
    ")\n",
    "\n",
    "# Plot it\n",
    "disp.plot(cmap='Blues')"
   ]
  },
  {
   "cell_type": "code",
   "execution_count": null,
   "metadata": {},
   "outputs": [],
   "source": []
  }
 ],
 "metadata": {
  "kernelspec": {
   "display_name": "Python 3",
   "language": "python",
   "name": "python3"
  },
  "language_info": {
   "codemirror_mode": {
    "name": "ipython",
    "version": 3
   },
   "file_extension": ".py",
   "mimetype": "text/x-python",
   "name": "python",
   "nbconvert_exporter": "python",
   "pygments_lexer": "ipython3",
   "version": "3.7.4"
  }
 },
 "nbformat": 4,
 "nbformat_minor": 2
}
