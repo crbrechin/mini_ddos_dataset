{
 "cells": [
  {
   "cell_type": "markdown",
   "metadata": {},
   "source": [
    "# 🌳 Linear Regression Model"
   ]
  },
  {
   "cell_type": "markdown",
   "metadata": {},
   "source": [
    "## 👽 Load and Summarize"
   ]
  },
  {
   "cell_type": "code",
   "execution_count": 125,
   "metadata": {},
   "outputs": [],
   "source": [
    "# Required libraries\n",
    "# import pandas as pd\n",
    "import matplotlib.pyplot as plt\n",
    "import numpy as np\n",
    "# !pip install --upgrade pandas\n",
    "import pandas as pd\n",
    "# print(pd.__version__) # I am having trouble with pandas and dataframes...\n",
    "import seaborn as sns\n",
    "# print(sns.__version__)  # Should be 0.11.0 or higher so that `histplot() works\n",
    "# !pip install --upgrade seaborn\n",
    "from sklearn.feature_selection import VarianceThreshold\n",
    "\n",
    "# Load the data\n",
    "data = pd.read_csv('./data/train_data.csv')\n",
    "\n",
    "# print(data.shape)\n",
    "# data.describe()"
   ]
  },
  {
   "cell_type": "markdown",
   "metadata": {},
   "source": [
    "## 🧯 Suppress the `FutureWarning`"
   ]
  },
  {
   "cell_type": "code",
   "execution_count": 39,
   "metadata": {},
   "outputs": [],
   "source": [
    "# import warnings\n",
    "# warnings.simplefilter(\"ignore\", category=FutureWarning)"
   ]
  },
  {
   "cell_type": "markdown",
   "metadata": {},
   "source": [
    "## 🧼 Clean the Dataset"
   ]
  },
  {
   "cell_type": "code",
   "execution_count": 126,
   "metadata": {},
   "outputs": [],
   "source": [
    "# # Convert all object columns to strings\n",
    "string_cols = ['protocol_type', 'service', 'flag']\n",
    "\n",
    "data = pd.get_dummies(data, columns=string_cols, drop_first=True)\n",
    "\n",
    "data = data.dropna()\n",
    "\n",
    "# print((data['is_host_login'] == 1).count()) # 25192 empty, so I will drop\n",
    "# Drop `is_host_login`\n",
    "\n",
    "# Search for bad columns\n",
    "constant_cols = [col for col in data.columns if data[col].nunique(dropna=False) == 1]\n",
    "# print(\"Useless columns:\", constant_cols)  Useless columns: ['num_outbound_cmds', 'is_host_login']\n",
    "# \"Let it all drop\" - Modest Mouse\n",
    "data = data.drop(columns=constant_cols)\n",
    "\n",
    "# print(data.dtypes)\n",
    "\n",
    "# Convert the label column\n",
    "data['class'] = data['class'].map({'normal': 0, 'anomaly': 1})\n",
    "\n",
    "\n",
    "# Get the binary columns for logistic regression\n",
    "binary_cols = []\n",
    "\n",
    "# Get the numeric clumns\n",
    "numeric_cols = data.select_dtypes(include='number').columns\n",
    "\n",
    "for col in data.select_dtypes(include='number').columns:\n",
    "    unique_vals = sorted(data[col].dropna().unique())\n",
    "    if unique_vals == [0, 1]:\n",
    "        binary_cols.append(col)\n",
    "\n",
    "# print(\"Binary columns:\", binary_cols)\n",
    "binary_cols.remove('num_shells')\n",
    "# print(binary_cols)\n",
    "# Separate the numeric and binary columns\n",
    "\n",
    "numeric_cols = [col for col in numeric_cols if col not in binary_cols]\n",
    "\n",
    "# print(data.isna().sum().sort_values(ascending=False).head(10)) # No NaN\n",
    "# inf_mask = np.isinf(data) # No -inf/inf\n",
    "# print(inf_mask.sum().sort_values(ascending=False).head(10)) # No -inf/inf"
   ]
  },
  {
   "cell_type": "markdown",
   "metadata": {},
   "source": [
    "## 🐫 Removing Low Variance Cells"
   ]
  },
  {
   "cell_type": "code",
   "execution_count": 138,
   "metadata": {
    "scrolled": true
   },
   "outputs": [
    {
     "name": "stdout",
     "output_type": "stream",
     "text": [
      "Low-variance features:\n",
      "----------------------------------------------------------------------------------------------------\n",
      "No low-variance features found.\n"
     ]
    }
   ],
   "source": [
    "# Fit the selector\n",
    "selector = VarianceThreshold(threshold=0.001)\n",
    "selector.fit(data[numeric_cols])  # call .fit() before accessing .variances_\n",
    "\n",
    "# Now safe to access .variances_\n",
    "low_variance = [col for col, var in zip(numeric_cols, selector.variances_) if var < 0.00001]\n",
    "\n",
    "print(\"Low-variance features:\\n\" + \"-\" * 100)\n",
    "\n",
    "if low_variance:\n",
    "    print(\"-\" * 100)\n",
    "    print(data[low_variance].describe())\n",
    "    print(\"-\" * 100)\n",
    "    print(data.groupby('class')[low_variance].mean())\n",
    "else:\n",
    "    print(\"No low-variance features found.\")"
   ]
  },
  {
   "cell_type": "code",
   "execution_count": 5,
   "metadata": {},
   "outputs": [],
   "source": [
    "# Drop these rows because they don't help\n",
    "# data = data.drop(columns=low_variance) # I am going to keep them for the moment"
   ]
  },
  {
   "cell_type": "markdown",
   "metadata": {},
   "source": [
    "### 🎆 Remove Unusable Values"
   ]
  },
  {
   "cell_type": "code",
   "execution_count": 128,
   "metadata": {},
   "outputs": [],
   "source": [
    "data = data.replace([np.inf, -np.inf], np.nan)\n",
    "data = data.dropna()"
   ]
  },
  {
   "cell_type": "markdown",
   "metadata": {},
   "source": [
    "## 🌲 Build the Random Forest Model"
   ]
  },
  {
   "cell_type": "code",
   "execution_count": 135,
   "metadata": {},
   "outputs": [],
   "source": [
    "from sklearn.ensemble import RandomForestClassifier\n",
    "from sklearn.model_selection import train_test_split\n",
    "from sklearn.metrics import classification_report, confusion_matrix, roc_auc_score\n",
    "\n",
    "# Split\n",
    "X = data.drop(columns = 'class')\n",
    "y = data['class']\n",
    "\n",
    "X_train, X_test, y_train, y_test = train_test_split(X, y, stratify=y, test_size=0.25, random_state=42069) # Nice\n",
    "\n",
    "# print(X)"
   ]
  },
  {
   "cell_type": "markdown",
   "metadata": {},
   "source": [
    "### 🚂 Train the Model"
   ]
  },
  {
   "cell_type": "code",
   "execution_count": 130,
   "metadata": {},
   "outputs": [
    {
     "data": {
      "text/plain": [
       "RandomForestClassifier(class_weight='balanced', n_jobs=-1, random_state=42069)"
      ]
     },
     "execution_count": 130,
     "metadata": {},
     "output_type": "execute_result"
    }
   ],
   "source": [
    "model = RandomForestClassifier(\n",
    "    n_estimators=100,       # number of trees\n",
    "    max_depth=None,         # can tune\n",
    "    class_weight='balanced', # for imbalance, not that there is any\n",
    "    random_state=42069, # Nice\n",
    "    n_jobs=-1\n",
    ")\n",
    "model.fit(X_train, y_train)"
   ]
  },
  {
   "cell_type": "markdown",
   "metadata": {},
   "source": [
    "### 🐊 Evaluate the Model"
   ]
  },
  {
   "cell_type": "code",
   "execution_count": 131,
   "metadata": {},
   "outputs": [
    {
     "name": "stdout",
     "output_type": "stream",
     "text": [
      "ROC AUC (Test): 0.9999199662196663\n",
      "----------------------------------------------------------------------------------------------------\n",
      "Train classification report:\n",
      "              precision    recall  f1-score   support\n",
      "\n",
      "           0       1.00      1.00      1.00     10087\n",
      "           1       1.00      1.00      1.00      8807\n",
      "\n",
      "    accuracy                           1.00     18894\n",
      "   macro avg       1.00      1.00      1.00     18894\n",
      "weighted avg       1.00      1.00      1.00     18894\n",
      "\n",
      "----------------------------------------------------------------------------------------------------\n",
      "Test classification report:\n",
      "              precision    recall  f1-score   support\n",
      "\n",
      "           0       1.00      1.00      1.00      3362\n",
      "           1       1.00      0.99      1.00      2936\n",
      "\n",
      "    accuracy                           1.00      6298\n",
      "   macro avg       1.00      1.00      1.00      6298\n",
      "weighted avg       1.00      1.00      1.00      6298\n",
      "\n"
     ]
    }
   ],
   "source": [
    "from sklearn.metrics import classification_report\n",
    "from sklearn.metrics import roc_auc_score, r2_score\n",
    "\n",
    "# Predictions\n",
    "y_pred_train = model.predict(X_train)\n",
    "y_pred_test = model.predict(X_test)\n",
    "\n",
    "# Evaluation\n",
    "print(\"ROC AUC (Test):\", roc_auc_score(y_test, model.predict_proba(X_test)[:, 1]))\n",
    "\n",
    "print(\"-\" * 100)\n",
    "print(\"Train classification report:\")\n",
    "print(classification_report(y_train, y_pred_train))\n",
    "\n",
    "print(\"-\" * 100)\n",
    "print(\"Test classification report:\")\n",
    "print(classification_report(y_test, y_pred_test))"
   ]
  },
  {
   "cell_type": "markdown",
   "metadata": {},
   "source": [
    "### 🦖 Confusion Matrix"
   ]
  },
  {
   "cell_type": "code",
   "execution_count": 132,
   "metadata": {},
   "outputs": [
    {
     "data": {
      "text/plain": [
       "<sklearn.metrics._plot.confusion_matrix.ConfusionMatrixDisplay at 0x2ddb2ee3548>"
      ]
     },
     "execution_count": 132,
     "metadata": {},
     "output_type": "execute_result"
    },
    {
     "data": {
      "image/png": "[encoded data removed]",
      "text/plain": [
       "<Figure size 432x288 with 2 Axes>"
      ]
     },
     "metadata": {
      "needs_background": "light"
     },
     "output_type": "display_data"
    }
   ],
   "source": [
    "from sklearn.metrics import confusion_matrix, ConfusionMatrixDisplay\n",
    "\n",
    "# Generate confusion matrix\n",
    "cm = confusion_matrix(y_test, y_pred_test)\n",
    "disp = ConfusionMatrixDisplay(\n",
    "    confusion_matrix=cm,\n",
    "    display_labels=['Normal', 'Anomaly']\n",
    ")\n",
    "\n",
    "# Plot it\n",
    "disp.plot(cmap='Greens')"
   ]
  },
  {
   "cell_type": "markdown",
   "metadata": {},
   "source": [
    "### 🥨 Viewing Results"
   ]
  },
  {
   "cell_type": "code",
   "execution_count": 134,
   "metadata": {},
   "outputs": [
    {
     "data": {
      "image/png": "[encoded data removed]",
      "text/plain": [
       "<Figure size 432x288 with 1 Axes>"
      ]
     },
     "metadata": {
      "needs_background": "light"
     },
     "output_type": "display_data"
    }
   ],
   "source": [
    "from sklearn.metrics import roc_curve, auc\n",
    "import matplotlib.pyplot as plt\n",
    "\n",
    "fpr, tpr, thresholds = roc_curve(y_test, rf.predict_proba(X_test)[:, 1])\n",
    "roc_auc = auc(fpr, tpr)\n",
    "\n",
    "plt.figure()\n",
    "plt.plot(fpr, tpr, label='ROC Curve (area = {:.4f})'.format(roc_auc))\n",
    "plt.plot([0, 1], [0, 1], 'k--')  # random guess\n",
    "plt.xlabel('False Positive Rate')\n",
    "plt.ylabel('True Positive Rate')\n",
    "plt.title('ROC Curve')\n",
    "plt.legend()\n",
    "plt.grid(True)\n",
    "plt.show()"
   ]
  },
  {
   "cell_type": "markdown",
   "metadata": {},
   "source": [
    "#### 🥐 Cross-Validating the Results"
   ]
  },
  {
   "cell_type": "code",
   "execution_count": 139,
   "metadata": {},
   "outputs": [
    {
     "name": "stdout",
     "output_type": "stream",
     "text": [
      "[0.99997674 0.99998623 0.99995535 0.99995979 0.99991538]\n"
     ]
    }
   ],
   "source": [
    "from sklearn.model_selection import cross_val_score\n",
    "print(cross_val_score(rf, X, y, cv=5, scoring='roc_auc'))"
   ]
  },
  {
   "cell_type": "markdown",
   "metadata": {},
   "source": [
    "### 🎺 Ranking Important Features"
   ]
  },
  {
   "cell_type": "code",
   "execution_count": 136,
   "metadata": {},
   "outputs": [
    {
     "name": "stdout",
     "output_type": "stream",
     "text": [
      "dst_bytes                      0.149949\n",
      "src_bytes                      0.112013\n",
      "same_srv_rate                  0.063721\n",
      "logged_in                      0.060237\n",
      "dst_host_srv_count             0.055801\n",
      "diff_srv_rate                  0.052469\n",
      "dst_host_same_srv_rate         0.042717\n",
      "count                          0.039476\n",
      "dst_host_serror_rate           0.035847\n",
      "dst_host_diff_srv_rate         0.033700\n",
      "flag_SF                        0.032602\n",
      "serror_rate                    0.025736\n",
      "dst_host_same_src_port_rate    0.021574\n",
      "dst_host_srv_serror_rate       0.020900\n",
      "service_http                   0.020874\n",
      "dst_host_srv_diff_host_rate    0.018993\n",
      "dst_host_count                 0.018953\n",
      "srv_serror_rate                0.018376\n",
      "srv_count                      0.016672\n",
      "dst_host_rerror_rate           0.014249\n",
      "dtype: float64\n"
     ]
    }
   ],
   "source": [
    "# Feature importances as a Series\n",
    "importances = pd.Series(rf.feature_importances_, index=X.columns)\n",
    "\n",
    "# Sort descending\n",
    "importances = importances.sort_values(ascending=False)\n",
    "\n",
    "# Show top 20\n",
    "print(importances.head(20))"
   ]
  },
  {
   "cell_type": "markdown",
   "metadata": {},
   "source": [
    "#### 🌵 Plot the Important Features"
   ]
  },
  {
   "cell_type": "code",
   "execution_count": 137,
   "metadata": {},
   "outputs": [
    {
     "data": {
      "image/png": "[encoded data removed]",
      "text/plain": [
       "<Figure size 720x432 with 1 Axes>"
      ]
     },
     "metadata": {
      "needs_background": "light"
     },
     "output_type": "display_data"
    }
   ],
   "source": [
    "import matplotlib.pyplot as plt\n",
    "\n",
    "plt.figure(figsize=(10, 6))\n",
    "importances.head(20).plot(kind='barh')\n",
    "plt.title('Top 20 Important Features')\n",
    "plt.xlabel('Mean Decrease in Impurity')\n",
    "plt.gca().invert_yaxis()  # Most important on top\n",
    "plt.grid(True)\n",
    "plt.tight_layout()\n",
    "plt.show()"
   ]
  }
 ],
 "metadata": {
  "kernelspec": {
   "display_name": "Python 3",
   "language": "python",
   "name": "python3"
  },
  "language_info": {
   "codemirror_mode": {
    "name": "ipython",
    "version": 3
   },
   "file_extension": ".py",
   "mimetype": "text/x-python",
   "name": "python",
   "nbconvert_exporter": "python",
   "pygments_lexer": "ipython3",
   "version": "3.7.4"
  }
 },
 "nbformat": 4,
 "nbformat_minor": 2
}
