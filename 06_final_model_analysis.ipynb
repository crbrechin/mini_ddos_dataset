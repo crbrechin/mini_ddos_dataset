{
 "cells": [
  {
   "cell_type": "markdown",
   "metadata": {},
   "source": [
    "# 🌳 Linear Regression Model"
   ]
  },
  {
   "cell_type": "markdown",
   "metadata": {},
   "source": [
    "## 👽 Load and Summarize"
   ]
  },
  {
   "cell_type": "code",
   "execution_count": 229,
   "metadata": {},
   "outputs": [],
   "source": [
    "# Required libraries\n",
    "# import pandas as pd\n",
    "import matplotlib.pyplot as plt\n",
    "import numpy as np\n",
    "# !pip install --upgrade pandas\n",
    "import pandas as pd\n",
    "# print(pd.__version__) # I am having trouble with pandas and dataframes...\n",
    "import seaborn as sns\n",
    "# print(sns.__version__)  # Should be 0.11.0 or higher so that `histplot() works\n",
    "# !pip install --upgrade seaborn\n",
    "from sklearn.feature_selection import VarianceThreshold\n",
    "\n",
    "# Load the data\n",
    "data = pd.read_csv('./data/train_data.csv')\n",
    "\n",
    "# Load the test data\n",
    "test_data = pd.read_csv('./data/test_data.csv')\n"
   ]
  },
  {
   "cell_type": "markdown",
   "metadata": {},
   "source": [
    "## 🧯 Suppress the `FutureWarning`"
   ]
  },
  {
   "cell_type": "code",
   "execution_count": 195,
   "metadata": {},
   "outputs": [],
   "source": [
    "# import warnings\n",
    "# warnings.simplefilter(\"ignore\", category=FutureWarning)"
   ]
  },
  {
   "cell_type": "markdown",
   "metadata": {},
   "source": [
    "## 🧼 Clean the Dataset"
   ]
  },
  {
   "cell_type": "code",
   "execution_count": 231,
   "metadata": {},
   "outputs": [],
   "source": [
    "def preprocess_for_pipeline(i_data, training_columns, drop_cols, categorical_cols):\n",
    "    i_data = i_data.drop(columns=drop_cols, errors='ignore')\n",
    "\n",
    "    for col in categorical_cols:\n",
    "        if col in i_data.columns:\n",
    "            i_data[col] = i_data[col].astype('string')\n",
    "\n",
    "#     i_data = pd.get_dummies(i_data, columns=[c for c in categorical_cols if c in i_data.columns], drop_first=True)\n",
    "    i_data = i_data.reindex(columns=training_columns, fill_value=0)\n",
    "    i_data = i_data.replace([np.inf, -np.inf], np.nan).dropna()\n",
    "\n",
    "    return i_data"
   ]
  },
  {
   "cell_type": "markdown",
   "metadata": {},
   "source": [
    "## 🐫 Removing Low Variance Cells"
   ]
  },
  {
   "cell_type": "code",
   "execution_count": 208,
   "metadata": {
    "scrolled": true
   },
   "outputs": [],
   "source": [
    "# # Fit the selector\n",
    "# selector = VarianceThreshold(threshold=0.001)\n",
    "# selector.fit(data[numeric_cols])  # call .fit() before accessing .variances_\n",
    "\n",
    "# # Now safe to access .variances_\n",
    "# low_variance = [col for col, var in zip(numeric_cols, selector.variances_) if var < 0.00001]\n",
    "\n",
    "# print(\"Low-variance features:\\n\" + \"-\" * 100)\n",
    "\n",
    "# if low_variance:\n",
    "#     print(\"-\" * 100)\n",
    "#     print(data[low_variance].describe())\n",
    "#     print(\"-\" * 100)\n",
    "#     print(data.groupby('class')[low_variance].mean())\n",
    "# else:\n",
    "#     print(\"No low-variance features found.\")"
   ]
  },
  {
   "cell_type": "code",
   "execution_count": 198,
   "metadata": {},
   "outputs": [],
   "source": [
    "# Drop these rows because they don't help\n",
    "# data = data.drop(columns=low_variance) # I am going to keep them for the moment"
   ]
  },
  {
   "cell_type": "markdown",
   "metadata": {},
   "source": [
    "## 🌲 Build the Random Forest Model"
   ]
  },
  {
   "cell_type": "code",
   "execution_count": 232,
   "metadata": {},
   "outputs": [],
   "source": [
    "from sklearn.ensemble import RandomForestClassifier\n",
    "from sklearn.model_selection import train_test_split\n",
    "from sklearn.metrics import classification_report, confusion_matrix, roc_auc_score\n",
    "\n",
    "# Split\n",
    "X = data.drop(columns = 'class')\n",
    "y = data['class']\n",
    "\n",
    "X_train, X_test, y_train, y_test = train_test_split(X, y, stratify=y, test_size=0.25, random_state=42069) # Nice\n",
    "\n",
    "# print(X)"
   ]
  },
  {
   "cell_type": "markdown",
   "metadata": {},
   "source": [
    "# 🔫 Apply the Model"
   ]
  },
  {
   "cell_type": "markdown",
   "metadata": {},
   "source": [
    "### 🔧 Build Pre-Processing Pipeline"
   ]
  },
  {
   "cell_type": "code",
   "execution_count": 233,
   "metadata": {},
   "outputs": [],
   "source": [
    "# Preprocessing for categorical columns\n",
    "cat_transformer = OneHotEncoder(drop='first', handle_unknown='ignore')\n",
    "\n",
    "# Combine all into a column transformer\n",
    "preprocessor = ColumnTransformer(\n",
    "    transformers=[\n",
    "        ('cat', cat_transformer, categorical_cols),\n",
    "    ],\n",
    "    remainder='passthrough'  # all other columns are kept as-is\n",
    ")\n",
    "\n",
    "# Final pipeline: preprocessing + classifier\n",
    "pipeline = Pipeline(steps=[\n",
    "    ('preprocess', preprocessor),\n",
    "    ('classifier', RandomForestClassifier(\n",
    "        n_estimators=100,\n",
    "        class_weight='balanced',\n",
    "        random_state=42069, # Nice\n",
    "        n_jobs=-1\n",
    "    ))\n",
    "])"
   ]
  },
  {
   "cell_type": "markdown",
   "metadata": {},
   "source": [
    "## 🦇 Define Pre-Processing Logic"
   ]
  },
  {
   "cell_type": "code",
   "execution_count": 237,
   "metadata": {},
   "outputs": [
    {
     "name": "stderr",
     "output_type": "stream",
     "text": [
      "C:\\Users\\carna\\Anaconda3\\lib\\site-packages\\sklearn\\preprocessing\\_encoders.py:174: UserWarning: Found unknown categories in columns [1] during transform. These unknown categories will be encoded as all zeros\n",
      "  UserWarning,\n"
     ]
    }
   ],
   "source": [
    "from sklearn.compose import ColumnTransformer\n",
    "from sklearn.pipeline import Pipeline\n",
    "from sklearn.preprocessing import OneHotEncoder, StandardScaler\n",
    "from sklearn.ensemble import RandomForestClassifier\n",
    "from sklearn.metrics import classification_report\n",
    "from sklearn.metrics import roc_auc_score, r2_score\n",
    "\n",
    "# Define column groups\n",
    "categorical_cols = ['protocol_type', 'service', 'flag']\n",
    "drop_cols = ['num_outbound_cmds', 'is_host_login']\n",
    "label_col = 'class'\n",
    "\n",
    "# Fit the pipeline on training data\n",
    "pipeline.fit(X_train, y_train)\n",
    "\n",
    "train_y_pred = pipeline.predict(X)\n",
    "test_y_pred = pipeline.predict(test_data)"
   ]
  }
 ],
 "metadata": {
  "kernelspec": {
   "display_name": "Python 3 (ipykernel)",
   "language": "python",
   "name": "python3"
  },
  "language_info": {
   "codemirror_mode": {
    "name": "ipython",
    "version": 3
   },
   "file_extension": ".py",
   "mimetype": "text/x-python",
   "name": "python",
   "nbconvert_exporter": "python",
   "pygments_lexer": "ipython3",
   "version": "3.12.4"
  }
 },
 "nbformat": 4,
 "nbformat_minor": 4
}
