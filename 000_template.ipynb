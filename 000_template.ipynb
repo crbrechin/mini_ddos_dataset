{
 "cells": [
  {
   "cell_type": "markdown",
   "metadata": {},
   "source": [
    "# Preliminary Data Exploration"
   ]
  },
  {
   "cell_type": "code",
   "execution_count": 2,
   "metadata": {},
   "outputs": [],
   "source": [
    "# Required libraries\n",
    "import pandas as pd\n",
    "import matplotlib.pyplot as plt\n",
    "import numpy as np\n",
    "import seaborn as sns\n",
    "from sklearn.feature_selection import VarianceThreshold"
   ]
  },
  {
   "cell_type": "markdown",
   "metadata": {},
   "source": [
    "## Parse Data into Chunks"
   ]
  },
  {
   "cell_type": "code",
   "execution_count": null,
   "metadata": {},
   "outputs": [],
   "source": [
    "# chunk_size = 5000  # rows per file\n",
    "# for i, chunk in enumerate(pd.read_csv(\"./data/full_ddos_dataset.csv\", chunksize=chunk_size)):\n",
    "#     chunk.to_csv(f\"./data/ddos_chunk_{i}.csv\", index=False)"
   ]
  },
  {
   "cell_type": "code",
   "execution_count": 1,
   "metadata": {},
   "outputs": [],
   "source": [
    "# Required libraries\n",
    "import pandas as pd\n",
    "import matplotlib.pyplot as plt\n",
    "import numpy as np\n",
    "import seaborn as sns\n",
    "from sklearn.feature_selection import VarianceThreshold\n",
    "\n",
    "# Load the data\n",
    "data = pd.read_csv('./data/ddos_chunk_1294.csv')  # Chunk 1294 is the inflection point\n",
    "\n",
    "# Normalize column names\n",
    "data.columns = (\n",
    "    data.columns\n",
    "    .str.strip()\n",
    "    .str.lower()\n",
    "    .str.replace(r'[^\\w]+', '_', regex=True)\n",
    ")\n",
    "\n",
    "# Normalize string values\n",
    "for col in data.select_dtypes(include='object').columns:\n",
    "    data[col] = data[col].str.strip().str.lower()\n",
    "\n",
    "# # Drop `-inf/inf` rows `flow_byts_s` and `flow_pkts_s` # There are 14 in Chunk 1294\n",
    "# data.replace([np.inf, -np.inf], np.nan, inplace=True)\n",
    "# Drop rows where any value is +inf or -inf\n",
    "data = data[~data.isin([np.inf, -np.inf]).any(axis=1)]\n",
    "\n",
    "# Drop useless columns\n",
    "data = data.drop(columns='unnamed_0')\n",
    "\n",
    "# Investigating Low Variance Columns\n",
    "numeric_cols = data.select_dtypes(include='number').columns\n",
    "selector = VarianceThreshold(threshold=0.01)\n",
    "selector.fit(data[numeric_cols])\n",
    "\n",
    "low_variance = [col for col, var in zip(numeric_cols, selector.variances_) if var < 0.01]\n",
    "\n",
    "# Drop low-variance columns\n",
    "data = data.drop(columns=low_variance)\n",
    "\n",
    "# Refresh numeric columns\n",
    "numeric_cols = data.select_dtypes(include='number').columns"
   ]
  }
 ],
 "metadata": {
  "kernelspec": {
   "display_name": "Python 3",
   "language": "python",
   "name": "python3"
  },
  "language_info": {
   "codemirror_mode": {
    "name": "ipython",
    "version": 3
   },
   "file_extension": ".py",
   "mimetype": "text/x-python",
   "name": "python",
   "nbconvert_exporter": "python",
   "pygments_lexer": "ipython3",
   "version": "3.7.4"
  }
 },
 "nbformat": 4,
 "nbformat_minor": 4
}
